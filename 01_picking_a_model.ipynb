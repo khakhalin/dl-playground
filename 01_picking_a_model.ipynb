{
 "cells": [
  {
   "cell_type": "markdown",
   "metadata": {},
   "source": [
    "# Read mnist, try basic operations"
   ]
  },
  {
   "cell_type": "code",
   "execution_count": 1,
   "metadata": {},
   "outputs": [],
   "source": [
    "import numpy as np\n",
    "import matplotlib.pyplot as plt\n",
    "import tensorflow as tf"
   ]
  },
  {
   "cell_type": "markdown",
   "metadata": {},
   "source": [
    "Reference and inspiration: https://keras.io/examples/mnist_cnn/"
   ]
  },
  {
   "cell_type": "code",
   "execution_count": 2,
   "metadata": {},
   "outputs": [],
   "source": [
    "class Const:\n",
    "    \"\"\"All constants collected together.\"\"\"\n",
    "    nrows = 28\n",
    "    nclasses = 10\n",
    "    \n",
    "C = Const()"
   ]
  },
  {
   "cell_type": "code",
   "execution_count": 3,
   "metadata": {},
   "outputs": [],
   "source": [
    "(xtrain,ytrain), (xtest,ytest) = tf.keras.datasets.mnist.load_data()\n",
    "\n",
    "def scale_mnist(x):\n",
    "    x  = x.astype('float32')/255\n",
    "    x = np.expand_dims(x,3) # Weird extra axis for channels, to make keras work\n",
    "    return x\n",
    "    \n",
    "xtrain = scale_mnist(xtrain)\n",
    "xtest  = scale_mnist(xtest)\n",
    "\n",
    "ytrain = tf.keras.utils.to_categorical(ytrain, C.nclasses)\n",
    "ytest  = tf.keras.utils.to_categorical(ytest, C.nclasses)"
   ]
  },
  {
   "cell_type": "code",
   "execution_count": 4,
   "metadata": {},
   "outputs": [
    {
     "name": "stdout",
     "output_type": "stream",
     "text": [
      "1.0\n",
      "(60000, 28, 28, 1)\n"
     ]
    }
   ],
   "source": [
    "print(np.max(xtrain[1,:,:,0]) )\n",
    "print(xtrain.shape)"
   ]
  },
  {
   "cell_type": "code",
   "execution_count": 112,
   "metadata": {},
   "outputs": [
    {
     "data": {
      "image/png": "[encoded data removed]",
      "text/plain": [
       "<Figure size 144x144 with 1 Axes>"
      ]
     },
     "metadata": {
      "needs_background": "light"
     },
     "output_type": "display_data"
    }
   ],
   "source": [
    "plt.figure(figsize=(2,2))\n",
    "plt.imshow(xtrain[np.random.randint(xtrain.shape[0]),:,:,0]);"
   ]
  },
  {
   "cell_type": "markdown",
   "metadata": {},
   "source": [
    "**Model choice**\n",
    "\n",
    "The mostel is roughly based on these experiments (that show that this design is close to optimal):\n",
    "* https://www.kaggle.com/cdeotte/how-to-choose-cnn-architecture-mnist\n",
    "\n",
    "I also assume that convolutional layers shouldn't be regularized:\n",
    "* https://www.kaggle.com/c/state-farm-distracted-driver-detection/discussion/20201\n",
    "\n",
    "And there's no use in L2 on the dense layer if we are doing dropout."
   ]
  },
  {
   "cell_type": "code",
   "execution_count": 128,
   "metadata": {},
   "outputs": [
    {
     "name": "stdout",
     "output_type": "stream",
     "text": [
      "Model: \"sequential_32\"\n",
      "_________________________________________________________________\n",
      "Layer (type)                 Output Shape              Param #   \n",
      "=================================================================\n",
      "conv2d_36 (Conv2D)           (None, 24, 24, 32)        832       \n",
      "_________________________________________________________________\n",
      "max_pooling2d_36 (MaxPooling (None, 12, 12, 32)        0         \n",
      "_________________________________________________________________\n",
      "conv2d_37 (Conv2D)           (None, 8, 8, 64)          51264     \n",
      "_________________________________________________________________\n",
      "max_pooling2d_37 (MaxPooling (None, 4, 4, 64)          0         \n",
      "_________________________________________________________________\n",
      "dropout_19 (Dropout)         (None, 4, 4, 64)          0         \n",
      "_________________________________________________________________\n",
      "flatten_18 (Flatten)         (None, 1024)              0         \n",
      "_________________________________________________________________\n",
      "dense_49 (Dense)             (None, 64)                65600     \n",
      "_________________________________________________________________\n",
      "dense_50 (Dense)             (None, 10)                650       \n",
      "=================================================================\n",
      "Total params: 118,346\n",
      "Trainable params: 118,346\n",
      "Non-trainable params: 0\n",
      "_________________________________________________________________\n"
     ]
    }
   ],
   "source": [
    "def build_model():\n",
    "    model = tf.keras.Sequential([\n",
    "        tf.keras.layers.Input(shape=(C.nrows,C.nrows,1)), # Universal input layer\n",
    "        tf.keras.layers.Conv2D(filters=32, kernel_size=(5,5), activation='relu'),\n",
    "        tf.keras.layers.MaxPooling2D(pool_size=(2,2)),\n",
    "        tf.keras.layers.Conv2D(filters=64, kernel_size=(5,5), activation='relu'),\n",
    "        tf.keras.layers.MaxPooling2D(pool_size=(2,2)),\n",
    "        tf.keras.layers.Dropout(0.4),\n",
    "        tf.keras.layers.Flatten(),\n",
    "        tf.keras.layers.Dense(64, activation='relu'),\n",
    "        tf.keras.layers.Dense(C.nclasses, activation='softmax')\n",
    "    ])\n",
    "    \n",
    "    optimizer = tf.keras.optimizers.Adam()\n",
    "\n",
    "    model.compile(loss='categorical_crossentropy',\n",
    "                 optimizer=optimizer,\n",
    "                 metrics=['accuracy'])\n",
    "    \n",
    "    return model\n",
    "\n",
    "model = build_model()\n",
    "model.summary()"
   ]
  },
  {
   "cell_type": "code",
   "execution_count": 129,
   "metadata": {},
   "outputs": [
    {
     "name": "stdout",
     "output_type": "stream",
     "text": [
      "\n",
      " .235 .070 .051 .042 .035 .031 .028 .023 .021 .021\n",
      " .018 .017 .015 .014 .014 .014 .012 .011 .011 .012\n",
      " .009 .009 .010 .009 .009 .008 .008 .009 .008 .008"
     ]
    },
    {
     "data": {
      "text/plain": [
       "Text(0, 0.5, 'Loss')"
      ]
     },
     "execution_count": 129,
     "metadata": {},
     "output_type": "execute_result"
    },
    {
     "data": {
      "image/png": "[encoded data removed]",
      "text/plain": [
       "<Figure size 432x288 with 1 Axes>"
      ]
     },
     "metadata": {
      "needs_background": "light"
     },
     "output_type": "display_data"
    }
   ],
   "source": [
    "class PrintDot(tf.keras.callbacks.Callback):\n",
    "    def on_epoch_end(self, epoch, logs):\n",
    "        if epoch % 10 == 0: print('')\n",
    "        print(f\" {logs['loss']:.3f}\".replace('0.','.'), end='')\n",
    "        # Funny replace function strips leading zeros (looks better that way)\n",
    "        \n",
    "\n",
    "hist = model.fit(xtrain, ytrain,\n",
    "                  batch_size=128,\n",
    "                  epochs=30,\n",
    "                  verbose=0,\n",
    "                  validation_data=(xtest, ytest),\n",
    "                  callbacks=[PrintDot()])\n",
    "\n",
    "plt.plot(hist.history['loss'])\n",
    "plt.xlabel('Epoch')\n",
    "plt.ylabel('Loss')"
   ]
  },
  {
   "cell_type": "code",
   "execution_count": 130,
   "metadata": {},
   "outputs": [
    {
     "name": "stdout",
     "output_type": "stream",
     "text": [
      "Test loss: 0.022044461708074677\n",
      "Accuracy: 0.9942\n",
      "Percent error: 0.58%\n"
     ]
    }
   ],
   "source": [
    "score = model.evaluate(xtest, ytest, verbose=0)\n",
    "print(\"Test loss:\",score[0])\n",
    "print('Accuracy:', score[1])\n",
    "print('Percent error:', f'{(1-score[1])*100:0.2f}%')"
   ]
  },
  {
   "cell_type": "markdown",
   "metadata": {},
   "source": [
    "# Results:\n",
    "\n",
    "All models are tested on the same split of testing and training data, with **20 epochs** (conceivably, we could go to something like 50 epochs, as the loss was still decreasing a bit). Batch size = 128, Adadelta learning rate = 1.\n",
    "\n",
    "Because in the long-term I want to pre-train the encoder, but reuse the decoder, it may make sense to keep the convolutional part heavier, and only run one Dense layer at the end. Not sure though. Maybe not. \n",
    "\n",
    "* Softmax(784→10). 7,850 params: 0.9274 accuracy\n",
    "* Conv2d(32,(3,3))→Softmax(21632→10). 216,650 params: 0.9824\n",
    "* Conv2d(32,(3,3))→Maxpool(2,2)→Softmax(5408→10). 54,410 params: 0.9838\n",
    "* Conv2d(32,(3,3))→Maxpool(2,2)→Dropout(0.5)→Softmax(5408→10). 54,410 params: 0.9837. No improvement.\n",
    "* Conv2d(32,(3,3))→Conv2d(64,(3,3))→Maxpool(2,2)→Dropout(0.5)→Softmax(5408→10). 110,986 params: 0.9899\n",
    "* Conv2d(32,(5,5))→Conv2d(64,(5,5))→Maxpool(2,2)→Dropout(0.5)→Softmax(→10). 116,106 params: 0.9930\n",
    "* Conv2d(32,(3,3))→Maxpool(2,2)→Conv2d(64,(3,3))→Maxpool(2,2)→Dropout(0.5)→Softmax(1600→10). 34,826 params: 0.9907\n",
    "* Conv2d(32,(5,5))→Maxpool(2,2)→Conv2d(64,(5,5))→Maxpool(2,2)→Dropout(0.5)→Softmax(1024→10). 62,346 params: 0.9936\n",
    "* Conv2d(32,(5,5))→Maxpool(2,2)→Conv2d(64,(5,5))→Maxpool(2,2)→Dropout(0.5)→Dense(64)→Dropout(0.5)→Softmax(10). 118,346 params: 0.9939\n",
    "* Conv2d(32,(5,5))→Maxpool(2,2)→Conv2d(64,(5,5))→Maxpool(2,2)→Dropout(0.5)→Dense(128)→Dropout(0.5)→Softmax(10). 184,586 params: 0.9937\n",
    "* Conv2d(32,(5,5))→Maxpool(2,2)→Conv2d(64,(5,5))→Maxpool(2,2)→Dropout(0.5)→Dense(64)→Softmax(10). 118,346 params: 0.9949 - **This one.**\n",
    "* Conv2d(32,(5,5))→Maxpool(2,2)→Conv2d(64,(5,5))→Maxpool(2,2)→Dropout(0.5)→Dense(64, l2=0.01)→Softmax(10). 118,346 params: 0.9923\n",
    "* Conv2d(32,(5,5), l2=0.01)→Maxpool(2,2)→Conv2d(64,(5,5), l2=0.01)→Maxpool(2,2)→Dropout(0.5)→Dense(64, l2=0.01)→Softmax(10). 118,346 params: 0.9802\n",
    "\n",
    "Just for info, SOTA for MNIST is about 0.2% error rate: https://paperswithcode.com/sota/image-classification-on-mnist"
   ]
  }
 ],
 "metadata": {
  "kernelspec": {
   "display_name": "Python 3",
   "language": "python",
   "name": "python3"
  },
  "language_info": {
   "codemirror_mode": {
    "name": "ipython",
    "version": 3
   },
   "file_extension": ".py",
   "mimetype": "text/x-python",
   "name": "python",
   "nbconvert_exporter": "python",
   "pygments_lexer": "ipython3",
   "version": "3.7.6"
  }
 },
 "nbformat": 4,
 "nbformat_minor": 2
}

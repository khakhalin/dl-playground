{
 "cells": [
  {
   "cell_type": "markdown",
   "metadata": {},
   "source": [
    "# Read mnist, try basic operations"
   ]
  },
  {
   "cell_type": "code",
   "execution_count": 1,
   "metadata": {},
   "outputs": [],
   "source": [
    "import numpy as np\n",
    "import matplotlib.pyplot as plt\n",
    "import tensorflow as tf"
   ]
  },
  {
   "cell_type": "markdown",
   "metadata": {},
   "source": [
    "Reference and inspiration: https://keras.io/examples/mnist_cnn/"
   ]
  },
  {
   "cell_type": "code",
   "execution_count": 76,
   "metadata": {},
   "outputs": [],
   "source": [
    "class Const:\n",
    "    \"\"\"All constants collected together.\"\"\"\n",
    "    nrows = 28\n",
    "    nclasses = 10\n",
    "    \n",
    "C = Const()"
   ]
  },
  {
   "cell_type": "code",
   "execution_count": 107,
   "metadata": {},
   "outputs": [],
   "source": [
    "(xtrain,ytrain), (xtest,ytest) = tf.keras.datasets.mnist.load_data()\n",
    "\n",
    "def scale_mnist(x):\n",
    "    x  = x.astype('float32')/255\n",
    "    x = np.expand_dims(x,3) # Weird extra axis for channels, to make keras work\n",
    "    return x\n",
    "    \n",
    "xtrain = scale_mnist(xtrain)\n",
    "xtest  = scale_mnist(xtest)\n",
    "\n",
    "ytrain = tf.keras.utils.to_categorical(ytrain, C.nclasses)\n",
    "ytest  = tf.keras.utils.to_categorical(ytest, C.nclasses)"
   ]
  },
  {
   "cell_type": "code",
   "execution_count": 108,
   "metadata": {},
   "outputs": [
    {
     "name": "stdout",
     "output_type": "stream",
     "text": [
      "1.0\n",
      "(60000, 28, 28, 1)\n"
     ]
    }
   ],
   "source": [
    "print(np.max(xtrain[1,:,:,0]) )\n",
    "print(xtrain.shape)"
   ]
  },
  {
   "cell_type": "code",
   "execution_count": 110,
   "metadata": {},
   "outputs": [
    {
     "data": {
      "image/png": "[encoded data removed]",
      "text/plain": [
       "<Figure size 432x288 with 1 Axes>"
      ]
     },
     "metadata": {
      "needs_background": "light"
     },
     "output_type": "display_data"
    }
   ],
   "source": [
    "plt.imshow(xtrain[np.random.randint(xtrain.shape[0]),:,:,0]);"
   ]
  },
  {
   "cell_type": "code",
   "execution_count": 192,
   "metadata": {},
   "outputs": [
    {
     "name": "stdout",
     "output_type": "stream",
     "text": [
      "Model: \"sequential_38\"\n",
      "_________________________________________________________________\n",
      "Layer (type)                 Output Shape              Param #   \n",
      "=================================================================\n",
      "conv2d_27 (Conv2D)           (None, 24, 24, 32)        832       \n",
      "_________________________________________________________________\n",
      "max_pooling2d_15 (MaxPooling (None, 12, 12, 32)        0         \n",
      "_________________________________________________________________\n",
      "conv2d_28 (Conv2D)           (None, 8, 8, 64)          51264     \n",
      "_________________________________________________________________\n",
      "max_pooling2d_16 (MaxPooling (None, 4, 4, 64)          0         \n",
      "_________________________________________________________________\n",
      "dropout_14 (Dropout)         (None, 4, 4, 64)          0         \n",
      "_________________________________________________________________\n",
      "flatten_21 (Flatten)         (None, 1024)              0         \n",
      "_________________________________________________________________\n",
      "dense_34 (Dense)             (None, 64)                65600     \n",
      "_________________________________________________________________\n",
      "dropout_15 (Dropout)         (None, 64)                0         \n",
      "_________________________________________________________________\n",
      "dense_35 (Dense)             (None, 10)                650       \n",
      "=================================================================\n",
      "Total params: 118,346\n",
      "Trainable params: 118,346\n",
      "Non-trainable params: 0\n",
      "_________________________________________________________________\n"
     ]
    }
   ],
   "source": [
    "def build_model():\n",
    "    model = tf.keras.Sequential([\n",
    "        tf.keras.layers.Input(shape=(C.nrows,C.nrows,1)), # Universal input layer\n",
    "        tf.keras.layers.Conv2D(filters=32, kernel_size=(5,5), activation='relu'),\n",
    "        tf.keras.layers.MaxPooling2D(pool_size=(2,2)),\n",
    "        tf.keras.layers.Conv2D(filters=64, kernel_size=(5,5), activation='relu'),\n",
    "        tf.keras.layers.MaxPooling2D(pool_size=(2,2)),\n",
    "        tf.keras.layers.Dropout(0.5),\n",
    "        tf.keras.layers.Flatten(),\n",
    "        tf.keras.layers.Dense(64, activation='relu'),\n",
    "        tf.keras.layers.Dropout(0.5),\n",
    "        tf.keras.layers.Dense(C.nclasses, activation='softmax')\n",
    "    ])\n",
    "    \n",
    "    optimizer = tf.keras.optimizers.Adadelta(learning_rate=1)\n",
    "\n",
    "    model.compile(loss='categorical_crossentropy',\n",
    "                 optimizer=optimizer,\n",
    "                 metrics=['accuracy'])\n",
    "    \n",
    "    return model\n",
    "\n",
    "model = build_model()\n",
    "model.summary()"
   ]
  },
  {
   "cell_type": "code",
   "execution_count": 193,
   "metadata": {},
   "outputs": [
    {
     "name": "stdout",
     "output_type": "stream",
     "text": [
      "\n",
      " .393 .146 .112 .095 .084 .071 .070 .064 .062 .057\n",
      " .052 .051 .048 .046 .046 .045 .042 .040 .041 .038"
     ]
    },
    {
     "data": {
      "text/plain": [
       "Text(0, 0.5, 'Loss')"
      ]
     },
     "execution_count": 193,
     "metadata": {},
     "output_type": "execute_result"
    },
    {
     "data": {
      "image/png": "[encoded data removed]",
      "text/plain": [
       "<Figure size 432x288 with 1 Axes>"
      ]
     },
     "metadata": {
      "needs_background": "light"
     },
     "output_type": "display_data"
    }
   ],
   "source": [
    "class PrintDot(tf.keras.callbacks.Callback):\n",
    "    def on_epoch_end(self, epoch, logs):\n",
    "        if epoch % 10 == 0: print('')\n",
    "        print(f\" {logs['loss']:.3f}\".replace('0.','.'), end='')\n",
    "        # Funny replace function strips leading zeros (looks better that way)\n",
    "        \n",
    "\n",
    "hist = model.fit(xtrain, ytrain,\n",
    "                  batch_size=128,\n",
    "                  epochs=20,\n",
    "                  verbose=0,\n",
    "                  validation_data=(xtest, ytest),\n",
    "                  callbacks=[PrintDot()])\n",
    "\n",
    "plt.plot(hist.history['loss'])\n",
    "plt.xlabel('Epoch')\n",
    "plt.ylabel('Loss')"
   ]
  },
  {
   "cell_type": "code",
   "execution_count": 199,
   "metadata": {},
   "outputs": [
    {
     "name": "stdout",
     "output_type": "stream",
     "text": [
      "Test loss: 0.02295309518905642\n",
      "Accuracy: 0.9928\n",
      "Percent error: 0.72\n"
     ]
    }
   ],
   "source": [
    "score = model.evaluate(xtest, ytest, verbose=0)\n",
    "print(\"Test loss:\",score[0])\n",
    "print('Accuracy:', score[1])\n",
    "print('Percent error:', f'{(1-score[1])*100:0.2f}')"
   ]
  },
  {
   "cell_type": "markdown",
   "metadata": {},
   "source": [
    "# Results:\n",
    "\n",
    "All models are tested on the same split of testing and training data, with 20 epochs. Batch size = 128, Adadelta learning rate = 1.\n",
    "\n",
    "Because in the long-term I want to pre-train the encoder, but reuse the decoder, it may make sense to keep the convolutional part heavier, and only run one Dense layer at the end. Not sure though. Maybe not. \n",
    "\n",
    "* Softmax(784→10). 7,850 params: 0.9274 accuracy\n",
    "* Conv2d(32,(3,3))→Softmax(21632→10). 216,650 params: 0.9824\n",
    "* Conv2d(32,(3,3))→Maxpool(2,2)→Softmax(5408→10). 54,410 params: 0.9838\n",
    "* Conv2d(32,(3,3))→Maxpool(2,2)→Dropout(0.5)→Softmax(5408→10). 54,410 params: 0.9837. No improvement.\n",
    "* Conv2d(32,(3,3))→Conv2d(64,(3,3))→Maxpool(2,2)→Dropout(0.5)→Softmax(5408→10). 110,986 params: 0.9899\n",
    "* Conv2d(32,(5,5))→Conv2d(64,(5,5))→Maxpool(2,2)→Dropout(0.5)→Softmax(→10). 116,106 params: 0.9930\n",
    "* Conv2d(32,(3,3))→Maxpool(2,2)→Conv2d(64,(3,3))→Maxpool(2,2)→Dropout(0.5)→Softmax(1600→10). 34,826 params: 0.9907\n",
    "* Conv2d(32,(5,5))→Maxpool(2,2)→Conv2d(64,(5,5))→Maxpool(2,2)→Dropout(0.5)→Softmax(1024→10). 62,346 params: 0.9936\n",
    "* Conv2d(32,(5,5))→Maxpool(2,2)→Conv2d(64,(5,5))→Maxpool(2,2)→Dropout(0.5)→Dense(64)→Dropout(0.5)→Softmax(10). 118,346 params: 0.9939 - that is our favorite for now!\n",
    "* Conv2d(32,(5,5))→Maxpool(2,2)→Conv2d(64,(5,5))→Maxpool(2,2)→Dropout(0.5)→Dense(128)→Dropout(0.5)→Softmax(10). 184,586 params: 0.9937\n",
    "\n",
    "Just for info, SOTA for MNIST is about 0.2% error rate: https://paperswithcode.com/sota/image-classification-on-mnist"
   ]
  },
  {
   "cell_type": "code",
   "execution_count": 191,
   "metadata": {},
   "outputs": [
    {
     "data": {
      "text/plain": [
       "Text(0, 0.5, 'Error rate')"
      ]
     },
     "execution_count": 191,
     "metadata": {},
     "output_type": "execute_result"
    },
    {
     "data": {
      "image/png": "[encoded data removed]",
      "text/plain": [
       "<Figure size 432x288 with 1 Axes>"
      ]
     },
     "metadata": {
      "needs_background": "light"
     },
     "output_type": "display_data"
    }
   ],
   "source": [
    "p = [7850, 216650, 54410, 54410, 110986, 116106, 34826, 62346, 118346, 184586]\n",
    "a = [0.9274, 0.9824, 0.9838, 0.9837, 0.9899, 0.9930, 0.9907, 0.9936, 0.9939, 0.9937]\n",
    "plt.plot(p,1-np.array(a),'.');\n",
    "plt.yscale('log')\n",
    "plt.xlabel('N parameters')\n",
    "plt.ylabel('Error rate')"
   ]
  }
 ],
 "metadata": {
  "kernelspec": {
   "display_name": "Python 3",
   "language": "python",
   "name": "python3"
  },
  "language_info": {
   "codemirror_mode": {
    "name": "ipython",
    "version": 3
   },
   "file_extension": ".py",
   "mimetype": "text/x-python",
   "name": "python",
   "nbconvert_exporter": "python",
   "pygments_lexer": "ipython3",
   "version": "3.7.3"
  }
 },
 "nbformat": 4,
 "nbformat_minor": 2
}

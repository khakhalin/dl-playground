{
 "cells": [
  {
   "cell_type": "markdown",
   "metadata": {},
   "source": [
    "# Read mnist, try basic operations"
   ]
  },
  {
   "cell_type": "code",
   "execution_count": 1,
   "metadata": {},
   "outputs": [],
   "source": [
    "import numpy as np\n",
    "import matplotlib.pyplot as plt\n",
    "import tensorflow as tf"
   ]
  },
  {
   "cell_type": "markdown",
   "metadata": {},
   "source": [
    "Reference and inspiration: https://keras.io/examples/mnist_cnn/"
   ]
  },
  {
   "cell_type": "code",
   "execution_count": 2,
   "metadata": {},
   "outputs": [],
   "source": [
    "class Const:\n",
    "    \"\"\"All constants collected together.\"\"\"\n",
    "    nrows = 28\n",
    "    nclasses = 10\n",
    "    \n",
    "C = Const()"
   ]
  },
  {
   "cell_type": "code",
   "execution_count": 3,
   "metadata": {},
   "outputs": [],
   "source": [
    "(xtrain,ytrain), (xtest,ytest) = tf.keras.datasets.mnist.load_data()\n",
    "\n",
    "def scale_mnist(x):\n",
    "    x  = x.astype('float32')/255\n",
    "    x = np.expand_dims(x,3) # Weird extra axis for channels, to make keras work\n",
    "    return x\n",
    "    \n",
    "xtrain = scale_mnist(xtrain)\n",
    "xtest  = scale_mnist(xtest)\n",
    "\n",
    "ytrain = tf.keras.utils.to_categorical(ytrain, C.nclasses)\n",
    "ytest  = tf.keras.utils.to_categorical(ytest, C.nclasses)"
   ]
  },
  {
   "cell_type": "code",
   "execution_count": 4,
   "metadata": {},
   "outputs": [
    {
     "name": "stdout",
     "output_type": "stream",
     "text": [
      "1.0\n",
      "(60000, 28, 28, 1)\n"
     ]
    }
   ],
   "source": [
    "print(np.max(xtrain[1,:,:,0]) )\n",
    "print(xtrain.shape)"
   ]
  },
  {
   "cell_type": "code",
   "execution_count": 112,
   "metadata": {},
   "outputs": [
    {
     "data": {
      "image/png": "[encoded data removed]",
      "text/plain": [
       "<Figure size 144x144 with 1 Axes>"
      ]
     },
     "metadata": {
      "needs_background": "light"
     },
     "output_type": "display_data"
    }
   ],
   "source": [
    "plt.figure(figsize=(2,2))\n",
    "plt.imshow(xtrain[np.random.randint(xtrain.shape[0]),:,:,0]);"
   ]
  },
  {
   "cell_type": "markdown",
   "metadata": {},
   "source": [
    "**Model choice**\n",
    "\n",
    "The mostel is roughly based on these experiments (that show that this design is close to optimal):\n",
    "* https://www.kaggle.com/cdeotte/how-to-choose-cnn-architecture-mnist\n",
    "\n",
    "I also assume that convolutional layers shouldn't be regularized:\n",
    "* https://www.kaggle.com/c/state-farm-distracted-driver-detection/discussion/20201\n",
    "\n",
    "And there's no use in L2 on the dense layer if we are doing dropout."
   ]
  },
  {
   "cell_type": "code",
   "execution_count": 128,
   "metadata": {},
   "outputs": [
    {
     "name": "stdout",
     "output_type": "stream",
     "text": [
      "Model: \"sequential_32\"\n",
      "_________________________________________________________________\n",
      "Layer (type)                 Output Shape              Param #   \n",
      "=================================================================\n",
      "conv2d_36 (Conv2D)           (None, 24, 24, 32)        832       \n",
      "_________________________________________________________________\n",
      "max_pooling2d_36 (MaxPooling (None, 12, 12, 32)        0         \n",
      "_________________________________________________________________\n",
      "conv2d_37 (Conv2D)           (None, 8, 8, 64)          51264     \n",
      "_________________________________________________________________\n",
      "max_pooling2d_37 (MaxPooling (None, 4, 4, 64)          0         \n",
      "_________________________________________________________________\n",
      "dropout_19 (Dropout)         (None, 4, 4, 64)          0         \n",
      "_________________________________________________________________\n",
      "flatten_18 (Flatten)         (None, 1024)              0         \n",
      "_________________________________________________________________\n",
      "dense_49 (Dense)             (None, 64)                65600     \n",
      "_________________________________________________________________\n",
      "dense_50 (Dense)             (None, 10)                650       \n",
      "=================================================================\n",
      "Total params: 118,346\n",
      "Trainable params: 118,346\n",
      "Non-trainable params: 0\n",
      "_________________________________________________________________\n"
     ]
    }
   ],
   "source": [
    "def build_model():\n",
    "    model = tf.keras.Sequential([\n",
    "        tf.keras.layers.Input(shape=(C.nrows,C.nrows,1)), # Universal input layer\n",
    "        tf.keras.layers.Conv2D(filters=32, kernel_size=(5,5), activation='relu'),\n",
    "        tf.keras.layers.MaxPooling2D(pool_size=(2,2)),\n",
    "        tf.keras.layers.Conv2D(filters=64, kernel_size=(5,5), activation='relu'),\n",
    "        tf.keras.layers.MaxPooling2D(pool_size=(2,2)),\n",
    "        tf.keras.layers.Dropout(0.4),\n",
    "        tf.keras.layers.Flatten(),\n",
    "        tf.keras.layers.Dense(64, activation='relu'),\n",
    "        tf.keras.layers.Dense(C.nclasses, activation='softmax')\n",
    "    ])\n",
    "    \n",
    "    optimizer = tf.keras.optimizers.Adam()\n",
    "\n",
    "    model.compile(loss='categorical_crossentropy',\n",
    "                 optimizer=optimizer,\n",
    "                 metrics=['accuracy'])\n",
    "    \n",
    "    return model\n",
    "\n",
    "model = build_model()\n",
    "model.summary()"
   ]
  },
  {
   "cell_type": "code",
   "execution_count": 129,
   "metadata": {},
   "outputs": [
    {
     "name": "stdout",
     "output_type": "stream",
     "text": [
      "\n",
      " .235 .070 .051 .042 .035 .031 .028 .023 .021 .021\n",
      " .018 .017 .015 .014 .014 .014 .012 .011 .011 .012\n",
      " .009 .009 .010 .009 .009 .008 .008 .009 .008 .008"
     ]
    },
    {
     "data": {
      "text/plain": [
       "Text(0, 0.5, 'Loss')"
      ]
     },
     "execution_count": 129,
     "metadata": {},
     "output_type": "execute_result"
    },
    {
     "data": {
      "image/png": "[encoded data removed]",
      "text/plain": [
       "<Figure size 432x288 with 1 Axes>"
      ]
     },
     "metadata": {
      "needs_background": "light"
     },
     "output_type": "display_data"
    }
   ],
   "source": [
    "class PrintDot(tf.keras.callbacks.Callback):\n",
    "    def on_epoch_end(self, epoch, logs):\n",
    "        if epoch % 10 == 0: print('')\n",
    "        print(f\" {logs['loss']:.3f}\".replace('0.','.'), end='')\n",
    "        # Funny replace function strips leading zeros (looks better that way)\n",
    "        \n",
    "\n",
    "hist = model.fit(xtrain, ytrain,\n",
    "                  batch_size=128,\n",
    "                  epochs=30,\n",
    "                  verbose=0,\n",
    "                  validation_data=(xtest, ytest),\n",
    "                  callbacks=[PrintDot()])\n",
    "\n",
    "plt.plot(hist.history['loss'])\n",
    "plt.xlabel('Epoch')\n",
    "plt.ylabel('Loss')"
   ]
  },
  {
   "cell_type": "code",
   "execution_count": 130,
   "metadata": {},
   "outputs": [
    {
     "name": "stdout",
     "output_type": "stream",
     "text": [
      "Test loss: 0.022044461708074677\n",
      "Accuracy: 0.9942\n",
      "Percent error: 0.58%\n"
     ]
    }
   ],
   "source": [
    "score = model.evaluate(xtest, ytest, verbose=0)\n",
    "print(\"Test loss:\",score[0])\n",
    "print('Accuracy:', score[1])\n",
    "print('Percent error:', f'{(1-score[1])*100:0.2f}%')"
   ]
  },
  {
   "cell_type": "markdown",
   "metadata": {},
   "source": [
    "# Results:\n",
    "\n",
    "All models are tested on the same split of testing and training data, with **20 epochs** (conceivably, we could go to something like 50 epochs, as the loss was still decreasing a bit). Batch size = 128, Adadelta learning rate = 1.\n",
    "\n",
    "Because in the long-term I want to pre-train the encoder, but reuse the decoder, it may make sense to keep the convolutional part heavier, and only run one Dense layer at the end. Not sure though. Maybe not. \n",
    "\n",
    "* Softmax(784→10). 7,850 params: 0.9274 accuracy\n",
    "* Conv2d(32,(3,3))→Softmax(21632→10). 216,650 params: 0.9824\n",
    "* Conv2d(32,(3,3))→Maxpool(2,2)→Softmax(5408→10). 54,410 params: 0.9838\n",
    "* Conv2d(32,(3,3))→Maxpool(2,2)→Dropout(0.5)→Softmax(5408→10). 54,410 params: 0.9837. No improvement.\n",
    "* Conv2d(32,(3,3))→Conv2d(64,(3,3))→Maxpool(2,2)→Dropout(0.5)→Softmax(5408→10). 110,986 params: 0.9899\n",
    "* Conv2d(32,(5,5))→Conv2d(64,(5,5))→Maxpool(2,2)→Dropout(0.5)→Softmax(→10). 116,106 params: 0.9930\n",
    "* Conv2d(32,(3,3))→Maxpool(2,2)→Conv2d(64,(3,3))→Maxpool(2,2)→Dropout(0.5)→Softmax(1600→10). 34,826 params: 0.9907\n",
    "* Conv2d(32,(5,5))→Maxpool(2,2)→Conv2d(64,(5,5))→Maxpool(2,2)→Dropout(0.5)→Softmax(1024→10). 62,346 params: 0.9936\n",
    "* Conv2d(32,(5,5))→Maxpool(2,2)→Conv2d(64,(5,5))→Maxpool(2,2)→Dropout(0.5)→Dense(64)→Dropout(0.5)→Softmax(10). 118,346 params: 0.9939\n",
    "* Conv2d(32,(5,5))→Maxpool(2,2)→Conv2d(64,(5,5))→Maxpool(2,2)→Dropout(0.5)→Dense(128)→Dropout(0.5)→Softmax(10). 184,586 params: 0.9937\n",
    "* Conv2d(32,(5,5))→Maxpool(2,2)→Conv2d(64,(5,5))→Maxpool(2,2)→Dropout(0.5)→Dense(64)→Softmax(10). 118,346 params: 0.9949 - **This one.**\n",
    "* Conv2d(32,(5,5))→Maxpool(2,2)→Conv2d(64,(5,5))→Maxpool(2,2)→Dropout(0.5)→Dense(64, l2=0.01)→Softmax(10). 118,346 params: 0.9923\n",
    "* Conv2d(32,(5,5), l2=0.01)→Maxpool(2,2)→Conv2d(64,(5,5), l2=0.01)→Maxpool(2,2)→Dropout(0.5)→Dense(64, l2=0.01)→Softmax(10). 118,346 params: 0.9802\n",
    "\n",
    "Just for info, SOTA for MNIST is about 0.2% error rate: https://paperswithcode.com/sota/image-classification-on-mnist"
   ]
  },
  {
   "cell_type": "code",
   "execution_count": 191,
   "metadata": {},
   "outputs": [
    {
     "data": {
      "text/plain": [
       "Text(0, 0.5, 'Error rate')"
      ]
     },
     "execution_count": 191,
     "metadata": {},
     "output_type": "execute_result"
    },
    {
     "data": {
      "image/png": "[encoded data removed]",
      "text/plain": [
       "<Figure size 432x288 with 1 Axes>"
      ]
     },
     "metadata": {
      "needs_background": "light"
     },
     "output_type": "display_data"
    }
   ],
   "source": [
    "p = [7850, 216650, 54410, 54410, 110986, 116106, 34826, 62346, 118346, 184586]\n",
    "a = [0.9274, 0.9824, 0.9838, 0.9837, 0.9899, 0.9930, 0.9907, 0.9936, 0.9939, 0.9937]\n",
    "plt.plot(p,1-np.array(a),'.');\n",
    "plt.yscale('log')\n",
    "plt.xlabel('N parameters')\n",
    "plt.ylabel('Error rate')"
   ]
  },
  {
   "cell_type": "markdown",
   "metadata": {},
   "source": [
    "# Transfer"
   ]
  },
  {
   "cell_type": "code",
   "execution_count": 51,
   "metadata": {},
   "outputs": [
    {
     "name": "stdout",
     "output_type": "stream",
     "text": [
      "[[ 1  3  5  7  2  0 13 15 17  4]\n",
      " [21  6 16 10  9 11 18 29 31 19]\n",
      " [34  8 25 12 20 35 32 38 41 22]\n",
      " [37 14 28 27 26 47 36 42 46 33]\n",
      " [51 23 76 30 53 65 39 52 55 43]]\n"
     ]
    },
    {
     "data": {
      "image/png": "[encoded data removed]",
      "text/plain": [
       "<Figure size 864x360 with 50 Axes>"
      ]
     },
     "metadata": {
      "needs_background": "light"
     },
     "output_type": "display_data"
    }
   ],
   "source": [
    "# Pick a few complete sets of digits\n",
    "\n",
    "nrows = 5\n",
    "hist = [0]*10\n",
    "indices = np.zeros((nrows, 10), dtype=int)\n",
    "plt.figure(figsize=(12,5))\n",
    "i = 0\n",
    "while min(hist) < nrows:\n",
    "    label = np.argmax(ytrain[i])\n",
    "    if hist[label]<nrows:\n",
    "        plt.subplot(nrows, 10, 1+label+hist[label]*10)\n",
    "        plt.imshow(xtrain[i,:,:,0]);\n",
    "        #plt.title(label)\n",
    "        plt.axis('off')\n",
    "        indices[hist[label], label] = i\n",
    "        hist[label] += 1\n",
    "    i += 1\n",
    "    \n",
    "print(indices)"
   ]
  },
  {
   "cell_type": "code",
   "execution_count": 54,
   "metadata": {},
   "outputs": [
    {
     "name": "stdout",
     "output_type": "stream",
     "text": [
      "\n",
      " 3.942 3.911 3.838 3.724 3.632 3.537 3.447 3.307 3.052 3.016\n",
      " 2.821 2.715 2.595 2.397 2.049 1.924 2.240 2.179 1.904 1.658\n",
      " 1.618 1.513 1.530 1.478 1.431 1.438 1.367 1.399 1.360 1.357\n",
      " 1.344 1.321 1.330 1.296 1.267 1.287 1.226 1.236 1.202 1.192\n",
      " 1.188 1.206 1.164 1.161 1.142 1.155 1.120 1.107 1.100 1.091\n",
      "Test loss: 2.371308289337158\n",
      "Accuracy: 0.5902\n",
      "Percent error: 40.98%\n"
     ]
    },
    {
     "data": {
      "image/png": "[encoded data removed]",
      "text/plain": [
       "<Figure size 432x288 with 1 Axes>"
      ]
     },
     "metadata": {
      "needs_background": "light"
     },
     "output_type": "display_data"
    }
   ],
   "source": [
    "# Reset the model, and train it on 10 samples only \n",
    "\n",
    "model = build_model()\n",
    "\n",
    "hist = model.fit(xtrain[indices[0,:]], ytrain[indices[0,:]],\n",
    "                  batch_size=128,\n",
    "                  epochs=50,\n",
    "                  verbose=0,\n",
    "                  validation_data=(xtest, ytest),\n",
    "                  callbacks=[PrintDot()])\n",
    "\n",
    "plt.plot(hist.history['loss'])\n",
    "plt.xlabel('Epoch')\n",
    "plt.ylabel('Loss')\n",
    "print()\n",
    "\n",
    "score = model.evaluate(xtest, ytest, verbose=0)\n",
    "print(\"Test loss:\",score[0])\n",
    "print('Accuracy:', score[1])\n",
    "print('Percent error:', f'{(1-score[1])*100:0.2f}%')"
   ]
  },
  {
   "cell_type": "markdown",
   "metadata": {},
   "source": [
    "# Freeze layers and retrain\n",
    "\n",
    "Refs:\n",
    "* https://keras.io/guides/transfer_learning/"
   ]
  },
  {
   "cell_type": "code",
   "execution_count": 107,
   "metadata": {},
   "outputs": [
    {
     "name": "stdout",
     "output_type": "stream",
     "text": [
      "INFO:tensorflow:Assets written to: weights_full\\assets\n"
     ]
    }
   ],
   "source": [
    "# Save weights\n",
    "\n",
    "model.save('weights_full')"
   ]
  },
  {
   "cell_type": "code",
   "execution_count": 64,
   "metadata": {},
   "outputs": [
    {
     "data": {
      "text/plain": [
       "[<tensorflow.python.keras.layers.convolutional.Conv2D at 0x23f2eec9988>,\n",
       " <tensorflow.python.keras.layers.pooling.MaxPooling2D at 0x23f2eec9188>,\n",
       " <tensorflow.python.keras.layers.convolutional.Conv2D at 0x23f2eec6e48>,\n",
       " <tensorflow.python.keras.layers.pooling.MaxPooling2D at 0x23f2eec6588>,\n",
       " <tensorflow.python.keras.layers.core.Dropout at 0x23f2eec67c8>,\n",
       " <tensorflow.python.keras.layers.core.Flatten at 0x23f2eec6948>,\n",
       " <tensorflow.python.keras.layers.core.Dense at 0x23f30668e88>,\n",
       " <tensorflow.python.keras.layers.core.Dense at 0x23f2eee8e88>]"
      ]
     },
     "execution_count": 64,
     "metadata": {},
     "output_type": "execute_result"
    }
   ],
   "source": [
    "model.layers"
   ]
  },
  {
   "cell_type": "code",
   "execution_count": 65,
   "metadata": {},
   "outputs": [
    {
     "name": "stdout",
     "output_type": "stream",
     "text": [
      "[False, False, False, False, False, False, False, True]\n"
     ]
    }
   ],
   "source": [
    "for i in range(7): # ALl but the last one:\n",
    "    model.layers[i].trainable = False\n",
    "    \n",
    "print([l.trainable for l in model.layers])"
   ]
  },
  {
   "cell_type": "code",
   "execution_count": 66,
   "metadata": {},
   "outputs": [
    {
     "name": "stdout",
     "output_type": "stream",
     "text": [
      "Test loss: 0.16863801363706588\n",
      "Accuracy: 0.9813\n",
      "Percent error: 1.87%\n"
     ]
    }
   ],
   "source": [
    "score = model.evaluate(xtest, ytest, verbose=0)\n",
    "print(\"Test loss:\",score[0])\n",
    "print('Accuracy:', score[1])\n",
    "print('Percent error:', f'{(1-score[1])*100:0.2f}%')"
   ]
  },
  {
   "cell_type": "code",
   "execution_count": 95,
   "metadata": {},
   "outputs": [
    {
     "name": "stdout",
     "output_type": "stream",
     "text": [
      "<tensorflow.python.keras.layers.convolutional.Conv2D object at 0x0000023F2EEC9988>\n",
      "<tensorflow.python.keras.layers.pooling.MaxPooling2D object at 0x0000023F2EEC9188>\n",
      "<tensorflow.python.keras.layers.convolutional.Conv2D object at 0x0000023F2EEC6E48>\n",
      "<tensorflow.python.keras.layers.pooling.MaxPooling2D object at 0x0000023F2EEC6588>\n",
      "<tensorflow.python.keras.layers.core.Dropout object at 0x0000023F2EEC67C8>\n",
      "<tensorflow.python.keras.layers.core.Flatten object at 0x0000023F2EEC6948>\n",
      "<tensorflow.python.keras.layers.core.Dense object at 0x0000023F30668E88>\n",
      "<tensorflow.python.keras.layers.core.Dense object at 0x0000023F2C56E848>\n",
      "[False, False, False, False, False, False, False, True]\n"
     ]
    }
   ],
   "source": [
    "# Reset the last (softmax) layer:\n",
    "model2 = tf.keras.Sequential()\n",
    "for layer in model.layers[:-1]:\n",
    "    model2.add(layer)\n",
    "model2.add(tf.keras.layers.Dense(C.nclasses, activation='softmax'))\n",
    "\n",
    "model2.compile(loss='categorical_crossentropy',\n",
    "             optimizer=tf.keras.optimizers.Adadelta(learning_rate=1),\n",
    "             metrics=['accuracy'])\n",
    "\n",
    "for l in model2.layers:\n",
    "    print(l)\n",
    "print([l.trainable for l in model2.layers])"
   ]
  },
  {
   "cell_type": "code",
   "execution_count": 97,
   "metadata": {},
   "outputs": [
    {
     "name": "stdout",
     "output_type": "stream",
     "text": [
      "Test loss: 2.5280421451568604\n",
      "Accuracy: 0.0864\n",
      "Percent error: 91.36%\n"
     ]
    }
   ],
   "source": [
    "# Untrained, so should perform at chance level\n",
    "score = model2.evaluate(xtest, ytest, verbose=0)\n",
    "print(\"Test loss:\",score[0])\n",
    "print('Accuracy:', score[1])\n",
    "print('Percent error:', f'{(1-score[1])*100:0.2f}%')"
   ]
  },
  {
   "cell_type": "code",
   "execution_count": 103,
   "metadata": {},
   "outputs": [
    {
     "name": "stdout",
     "output_type": "stream",
     "text": [
      "\n",
      " .843 .832 .883 .864 .866 .915 .884 .839 .854 .825\n",
      " .796 .884 .828 .848 .819 .827 .848 .798 .812 .800\n",
      " .740 .805 .795 .799 .807 .788 .774 .728 .835 .777\n",
      " .759 .706 .757 .697 .752 .710 .740 .730 .694 .708\n",
      " .801 .692 .765 .660 .715 .698 .735 .702 .722 .696\n",
      "Test loss: 0.9450716703414918\n",
      "Accuracy: 0.9565\n",
      "Percent error: 4.35%\n"
     ]
    }
   ],
   "source": [
    "# Retrain last layer on one set of numbers only\n",
    "\n",
    "hist = model2.fit(xtrain[indices[0,:]], ytrain[indices[0,:]],\n",
    "                  batch_size=10,\n",
    "                  epochs=50,\n",
    "                  verbose=0,\n",
    "                  validation_data=(xtest, ytest),\n",
    "                  callbacks=[PrintDot()])\n",
    "\n",
    "print()\n",
    "score = model2.evaluate(xtest, ytest, verbose=0)\n",
    "print(\"Test loss:\",score[0])\n",
    "print('Accuracy:', score[1])\n",
    "print('Percent error:', f'{(1-score[1])*100:0.2f}%')"
   ]
  }
 ],
 "metadata": {
  "kernelspec": {
   "display_name": "Python 3",
   "language": "python",
   "name": "python3"
  },
  "language_info": {
   "codemirror_mode": {
    "name": "ipython",
    "version": 3
   },
   "file_extension": ".py",
   "mimetype": "text/x-python",
   "name": "python",
   "nbconvert_exporter": "python",
   "pygments_lexer": "ipython3",
   "version": "3.7.6"
  }
 },
 "nbformat": 4,
 "nbformat_minor": 2
}

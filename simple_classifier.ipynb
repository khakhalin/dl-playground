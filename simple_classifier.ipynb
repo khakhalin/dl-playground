{
 "cells": [
  {
   "cell_type": "markdown",
   "metadata": {},
   "source": [
    "# Read mnist, try basic operations"
   ]
  },
  {
   "cell_type": "code",
   "execution_count": 1,
   "metadata": {},
   "outputs": [],
   "source": [
    "import numpy as np\n",
    "import matplotlib.pyplot as plt\n",
    "import tensorflow as tf"
   ]
  },
  {
   "cell_type": "code",
   "execution_count": 76,
   "metadata": {},
   "outputs": [],
   "source": [
    "class Const:\n",
    "    \"\"\"All constants collected together.\"\"\"\n",
    "    nrows = 28\n",
    "    nclasses = 10\n",
    "    \n",
    "C = Const()"
   ]
  },
  {
   "cell_type": "code",
   "execution_count": 107,
   "metadata": {},
   "outputs": [],
   "source": [
    "(xtrain,ytrain), (xtest,ytest) = tf.keras.datasets.mnist.load_data()\n",
    "\n",
    "def scale_mnist(x):\n",
    "    x  = x.astype('float32')/255\n",
    "    x = np.expand_dims(x,3) # Weird extra axis for channels, to make keras work\n",
    "    return x\n",
    "    \n",
    "xtrain = scale_mnist(xtrain)\n",
    "xtest  = scale_mnist(xtest)\n",
    "\n",
    "ytrain = tf.keras.utils.to_categorical(ytrain, C.nclasses)\n",
    "ytest  = tf.keras.utils.to_categorical(ytest, C.nclasses)"
   ]
  },
  {
   "cell_type": "code",
   "execution_count": 108,
   "metadata": {},
   "outputs": [
    {
     "name": "stdout",
     "output_type": "stream",
     "text": [
      "1.0\n",
      "(60000, 28, 28, 1)\n"
     ]
    }
   ],
   "source": [
    "print(np.max(xtrain[1,:,:,0]) )\n",
    "print(xtrain.shape)"
   ]
  },
  {
   "cell_type": "code",
   "execution_count": 110,
   "metadata": {},
   "outputs": [
    {
     "data": {
      "image/png": "[encoded data removed]",
      "text/plain": [
       "<Figure size 432x288 with 1 Axes>"
      ]
     },
     "metadata": {
      "needs_background": "light"
     },
     "output_type": "display_data"
    }
   ],
   "source": [
    "plt.imshow(xtrain[np.random.randint(xtrain.shape[0]),:,:,0]);"
   ]
  },
  {
   "cell_type": "code",
   "execution_count": 136,
   "metadata": {},
   "outputs": [
    {
     "name": "stdout",
     "output_type": "stream",
     "text": [
      "Model: \"sequential_21\"\n",
      "_________________________________________________________________\n",
      "Layer (type)                 Output Shape              Param #   \n",
      "=================================================================\n",
      "flatten_4 (Flatten)          (None, 784)               0         \n",
      "_________________________________________________________________\n",
      "dense_15 (Dense)             (None, 10)                7850      \n",
      "=================================================================\n",
      "Total params: 7,850\n",
      "Trainable params: 7,850\n",
      "Non-trainable params: 0\n",
      "_________________________________________________________________\n"
     ]
    }
   ],
   "source": [
    "def build_model():\n",
    "    model = tf.keras.Sequential([\n",
    "        tf.keras.layers.Input(shape=(C.nrows,C.nrows,1)), # Universal input layer\n",
    "        #tf.keras.layers.Conv2D(filters=32, kernel_size=(3,3), activation='relu', input_shape=(C.nrows,C.nrows,1))\n",
    "        tf.keras.layers.Flatten(),\n",
    "        tf.keras.layers.Dense(C.nclasses, activation='softmax')\n",
    "    ])\n",
    "    \n",
    "    optimizer = tf.keras.optimizers.Adadelta(learning_rate=1)\n",
    "\n",
    "    model.compile(loss='categorical_crossentropy',\n",
    "                 optimizer=optimizer,\n",
    "                 metrics=['accuracy'])\n",
    "    \n",
    "    return model\n",
    "\n",
    "model = build_model()\n",
    "model.summary()"
   ]
  },
  {
   "cell_type": "code",
   "execution_count": 137,
   "metadata": {},
   "outputs": [
    {
     "name": "stdout",
     "output_type": "stream",
     "text": [
      "\n",
      " 0.65 0.35 0.32 0.30 0.29 0.28 0.28 0.28 0.27 0.27\n",
      " 0.27 0.27 0.26 0.26 0.26 0.26 0.26 0.26 0.26 0.26"
     ]
    },
    {
     "data": {
      "text/plain": [
       "Text(0, 0.5, 'Loss')"
      ]
     },
     "execution_count": 137,
     "metadata": {},
     "output_type": "execute_result"
    },
    {
     "data": {
      "image/png": "[encoded data removed]",
      "text/plain": [
       "<Figure size 432x288 with 1 Axes>"
      ]
     },
     "metadata": {
      "needs_background": "light"
     },
     "output_type": "display_data"
    }
   ],
   "source": [
    "class PrintDot(tf.keras.callbacks.Callback):\n",
    "    def on_epoch_end(self, epoch, logs):\n",
    "        if epoch % 10 == 0: print('')\n",
    "        print(f\" {logs['loss']:.2f}\", end='')\n",
    "        \n",
    "\n",
    "hist = model.fit(xtrain, ytrain,\n",
    "                  batch_size=128,\n",
    "                  epochs=20,\n",
    "                  verbose=0,\n",
    "                  validation_data=(xtest, ytest),\n",
    "                  callbacks=[PrintDot()])\n",
    "\n",
    "plt.plot(hist.history['loss'])\n",
    "plt.xlabel('Epoch')\n",
    "plt.ylabel('Loss')"
   ]
  },
  {
   "cell_type": "code",
   "execution_count": 142,
   "metadata": {},
   "outputs": [
    {
     "data": {
      "text/plain": [
       "[0.26314557043462994, 0.9273]"
      ]
     },
     "execution_count": 142,
     "metadata": {},
     "output_type": "execute_result"
    }
   ],
   "source": [
    "score = model.evaluate(xtest, ytest, verbose=0)\n",
    "score # Test loss, test accuracy"
   ]
  }
 ],
 "metadata": {
  "kernelspec": {
   "display_name": "Python 3",
   "language": "python",
   "name": "python3"
  },
  "language_info": {
   "codemirror_mode": {
    "name": "ipython",
    "version": 3
   },
   "file_extension": ".py",
   "mimetype": "text/x-python",
   "name": "python",
   "nbconvert_exporter": "python",
   "pygments_lexer": "ipython3",
   "version": "3.7.3"
  }
 },
 "nbformat": 4,
 "nbformat_minor": 2
}
